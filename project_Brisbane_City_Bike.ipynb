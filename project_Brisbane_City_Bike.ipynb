{
 "cells": [
  {
   "cell_type": "code",
   "execution_count": 1,
   "metadata": {},
   "outputs": [],
   "source": [
    "import matplotlib.pyplot as plt\n",
    "import pandas as pd\n",
    "import numpy as np\n",
    "from sklearn.cluster import KMeans\n",
    "from scipy.cluster.vq import kmeans,vq\n",
    "from scipy.spatial.distance import cdist"
   ]
  },
  {
   "cell_type": "code",
   "execution_count": 2,
   "metadata": {},
   "outputs": [
    {
     "data": {
      "text/html": [
       "<div>\n",
       "<style scoped>\n",
       "    .dataframe tbody tr th:only-of-type {\n",
       "        vertical-align: middle;\n",
       "    }\n",
       "\n",
       "    .dataframe tbody tr th {\n",
       "        vertical-align: top;\n",
       "    }\n",
       "\n",
       "    .dataframe thead th {\n",
       "        text-align: right;\n",
       "    }\n",
       "</style>\n",
       "<table border=\"1\" class=\"dataframe\">\n",
       "  <thead>\n",
       "    <tr style=\"text-align: right;\">\n",
       "      <th></th>\n",
       "      <th>address</th>\n",
       "      <th>latitude</th>\n",
       "      <th>longitude</th>\n",
       "      <th>name</th>\n",
       "      <th>number</th>\n",
       "    </tr>\n",
       "  </thead>\n",
       "  <tbody>\n",
       "    <tr>\n",
       "      <th>0</th>\n",
       "      <td>Lower River Tce / Ellis St</td>\n",
       "      <td>-27.482279</td>\n",
       "      <td>153.028723</td>\n",
       "      <td>122 - LOWER RIVER TCE / ELLIS ST</td>\n",
       "      <td>122</td>\n",
       "    </tr>\n",
       "    <tr>\n",
       "      <th>1</th>\n",
       "      <td>Main St / Darragh St</td>\n",
       "      <td>-27.470590</td>\n",
       "      <td>153.036046</td>\n",
       "      <td>91 - MAIN ST / DARRAGH ST</td>\n",
       "      <td>91</td>\n",
       "    </tr>\n",
       "    <tr>\n",
       "      <th>2</th>\n",
       "      <td>Sydney St Ferry Terminal / Park</td>\n",
       "      <td>-27.474531</td>\n",
       "      <td>153.042728</td>\n",
       "      <td>88 - SYDNEY ST FERRY TERMINAL / PARK</td>\n",
       "      <td>88</td>\n",
       "    </tr>\n",
       "    <tr>\n",
       "      <th>3</th>\n",
       "      <td>Browne St / James St</td>\n",
       "      <td>-27.461881</td>\n",
       "      <td>153.046986</td>\n",
       "      <td>75 - BROWNE ST / JAMES ST</td>\n",
       "      <td>75</td>\n",
       "    </tr>\n",
       "    <tr>\n",
       "      <th>4</th>\n",
       "      <td>Kurilpa Point / Montague Rd</td>\n",
       "      <td>-27.469658</td>\n",
       "      <td>153.016696</td>\n",
       "      <td>98 - KURILPA POINT / MONTAGUE RD</td>\n",
       "      <td>98</td>\n",
       "    </tr>\n",
       "  </tbody>\n",
       "</table>\n",
       "</div>"
      ],
      "text/plain": [
       "                           address   latitude   longitude  \\\n",
       "0       Lower River Tce / Ellis St -27.482279  153.028723   \n",
       "1             Main St / Darragh St -27.470590  153.036046   \n",
       "2  Sydney St Ferry Terminal / Park -27.474531  153.042728   \n",
       "3             Browne St / James St -27.461881  153.046986   \n",
       "4      Kurilpa Point / Montague Rd -27.469658  153.016696   \n",
       "\n",
       "                                   name  number  \n",
       "0      122 - LOWER RIVER TCE / ELLIS ST     122  \n",
       "1             91 - MAIN ST / DARRAGH ST      91  \n",
       "2  88 - SYDNEY ST FERRY TERMINAL / PARK      88  \n",
       "3             75 - BROWNE ST / JAMES ST      75  \n",
       "4      98 - KURILPA POINT / MONTAGUE RD      98  "
      ]
     },
     "execution_count": 2,
     "metadata": {},
     "output_type": "execute_result"
    }
   ],
   "source": [
    "# Data: Brisbane_CityBike\n",
    "df = pd.read_json(\"Brisbane_CityBike.json\")\n",
    "df.head()"
   ]
  },
  {
   "cell_type": "code",
   "execution_count": 3,
   "metadata": {
    "scrolled": true
   },
   "outputs": [
    {
     "name": "stdout",
     "output_type": "stream",
     "text": [
      "<class 'pandas.core.frame.DataFrame'>\n",
      "RangeIndex: 149 entries, 0 to 148\n",
      "Data columns (total 5 columns):\n",
      "address      149 non-null object\n",
      "latitude     149 non-null float64\n",
      "longitude    149 non-null float64\n",
      "name         149 non-null object\n",
      "number       149 non-null int64\n",
      "dtypes: float64(2), int64(1), object(2)\n",
      "memory usage: 5.9+ KB\n"
     ]
    }
   ],
   "source": [
    "# Checking the Dataframe\n",
    "df.info()"
   ]
  },
  {
   "cell_type": "code",
   "execution_count": 4,
   "metadata": {},
   "outputs": [],
   "source": [
    "#Extracting the coordinates\n",
    "coord = df.loc[:,['latitude','longitude']]"
   ]
  },
  {
   "cell_type": "code",
   "execution_count": 5,
   "metadata": {},
   "outputs": [],
   "source": [
    "K = range(1,11)  \n",
    "\n",
    "KM = [kmeans(coord,k) for k in K] # apply kmeans 1 to 10\n",
    "centroids = [cent for (cent,var) in KM]   # cluster centroids\n",
    "\n",
    "Dk = [cdist(coord, cent, 'euclidean') for cent in centroids]\n",
    "\n",
    "dist = [np.min(D,axis=1) for D in Dk]\n",
    "avgWithinSS = [sum(d)/coord.shape[0] for d in dist]  "
   ]
  },
  {
   "cell_type": "code",
   "execution_count": 6,
   "metadata": {},
   "outputs": [
    {
     "data": {
      "image/png": "[encoded data removed]",
      "text/plain": [
       "<Figure size 432x288 with 1 Axes>"
      ]
     },
     "metadata": {
      "needs_background": "light"
     },
     "output_type": "display_data"
    }
   ],
   "source": [
    "kIdx = 2\n",
    "# plot elbow curve\n",
    "fig = plt.figure()\n",
    "ax = fig.add_subplot(111)\n",
    "ax.plot(K, avgWithinSS, 'b.-')\n",
    "ax.plot(K[2], avgWithinSS[2], 'r.')\n",
    "plt.xlabel('Number of clusters')\n",
    "plt.ylabel('Average within-cluster sum of squares')\n",
    "plt.title(str('Optimized number of Clusters = ') + str(K[2]))  \n",
    "plt.show()"
   ]
  },
  {
   "cell_type": "code",
   "execution_count": 7,
   "metadata": {},
   "outputs": [],
   "source": [
    "#K-Means clustering\n",
    "idn = K[2]   #number of clusters\n",
    "kmeans = KMeans(n_clusters=idn, random_state=1).fit(coord)\n",
    "label=kmeans.labels_"
   ]
  },
  {
   "cell_type": "code",
   "execution_count": 8,
   "metadata": {},
   "outputs": [
    {
     "data": {
      "image/png": "[encoded data removed]",
      "text/plain": [
       "<Figure size 432x288 with 1 Axes>"
      ]
     },
     "metadata": {
      "needs_background": "light"
     },
     "output_type": "display_data"
    }
   ],
   "source": [
    "plt.ylabel('Longitude')\n",
    "plt.xlabel('Latitude')\n",
    "for i in range(idn):\n",
    "    cluster=np.where(label==i)[0]\n",
    "    plt.plot(coord.latitude[cluster].values,coord.longitude[cluster].values,'*')\n",
    "plt.title('Clustering based on location of bike stations')  \n",
    "plt.show()"
   ]
  },
  {
   "cell_type": "code",
   "execution_count": null,
   "metadata": {},
   "outputs": [],
   "source": []
  }
 ],
 "metadata": {
  "kernelspec": {
   "display_name": "Python 3",
   "language": "python",
   "name": "python3"
  },
  "language_info": {
   "codemirror_mode": {
    "name": "ipython",
    "version": 3
   },
   "file_extension": ".py",
   "mimetype": "text/x-python",
   "name": "python",
   "nbconvert_exporter": "python",
   "pygments_lexer": "ipython3",
   "version": "3.7.2"
  }
 },
 "nbformat": 4,
 "nbformat_minor": 2
}
